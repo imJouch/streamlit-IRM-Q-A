{
 "cells": [
  {
   "cell_type": "markdown",
   "id": "f067c8c4-3007-4b34-a4b2-9e9079906c34",
   "metadata": {},
   "source": [
    "# Vector Database\n",
    "\n",
    "## Demo code to store and search via a vector database\n",
    "A quick demo code to store and search based on data from IRM-help-reviews-faiss\n",
    "\n",
    "Please ensure you have *.env* file in your HOME/Documents/src/openai/ folder"
   ]
  },
  {
   "cell_type": "code",
   "execution_count": 10,
   "id": "8aed98ff-4f15-4137-bd9f-af9ba28693c7",
   "metadata": {},
   "outputs": [],
   "source": [
    "from openai import AzureOpenAI\n",
    "from dotenv import load_dotenv\n",
    "import pandas as pd\n",
    "import tiktoken\n",
    "import os\n",
    "\n",
    "env_path = os.getenv(\"HOME\") + \"/Documents/src/openai/.env\"\n",
    "load_dotenv(dotenv_path=env_path, verbose=True)\n",
    "\n",
    "os.environ[\"OPENAI_API_TYPE\"] = \"azure\"\n",
    "os.environ[\"OPENAI_API_VERSION\"] = \"2023-05-15\"\n",
    "os.environ[\"AZURE_OPENAI_ENDPOINT\"] = \"https://pvg-azure-openai-uk-south.openai.azure.com\"\n",
    "\n",
    "client = AzureOpenAI(\n",
    "  azure_endpoint = os.getenv(\"AZURE_OPENAI_ENDPOINT\"), \n",
    "  api_key=os.getenv(\"AZURE_OPENAI_API_KEY\"),  \n",
    "  api_version=\"2023-05-15\"\n",
    ")"
   ]
  },
  {
   "cell_type": "code",
   "execution_count": 11,
   "id": "7f04d0f8-4566-49d4-b622-f6f21cbc0af9",
   "metadata": {},
   "outputs": [],
   "source": [
    "db_path = \"data/IRM-help-reviews-faiss\"\n",
    "input_path = \"data/IRM_Help.pdf\""
   ]
  },
  {
   "cell_type": "code",
   "execution_count": 12,
   "id": "296cafd7",
   "metadata": {},
   "outputs": [],
   "source": [
    "from langchain_community.document_loaders import PyPDFLoader\n",
    "\n",
    "loader = PyPDFLoader(input_path)\n",
    "pages = loader.load_and_split()"
   ]
  },
  {
   "cell_type": "code",
   "execution_count": 13,
   "id": "28265cc7",
   "metadata": {},
   "outputs": [
    {
     "data": {
      "text/plain": [
       "Document(page_content=\"2/26/2024\\n1 This is custom documentation. For more information, please visit the SAP Help PortalAdministrator's Guide\\nGenerated on: 2024-02-26 02:30:17 GMT+0000\\nSAP Intelligent Returns Management | 1.0\\nPUBLIC\\nOriginal content: https://help.sap.com/docs/returns/fb041e275d964ef0944a80f2592d411a?locale=en-\\nUS&state=PRODUCTION&version=1.0\\nWarning\\nThis document has been generated from the SAP Help Portal and is an incomplete version of the oﬃcial SAP product\\ndocumentation. The information included in custom documentation may not re\\x00ect the arrangement of topics in the SAP Help\\nPortal, and may be missing important aspects and/or correlations to other topics. For this reason, it is not for productive use.\\nFor more information, please visit the https://help.sap.com/docs/disclaimer.\", metadata={'source': 'data/IRM_Help.pdf', 'page': 0})"
      ]
     },
     "execution_count": 13,
     "metadata": {},
     "output_type": "execute_result"
    }
   ],
   "source": [
    "pages[0]"
   ]
  },
  {
   "cell_type": "code",
   "execution_count": 14,
   "id": "2a435004-10b1-4c88-a18b-8eeafbb1ba37",
   "metadata": {},
   "outputs": [],
   "source": [
    "from langchain.embeddings import AzureOpenAIEmbeddings\n",
    "from langchain.vectorstores import FAISS\n",
    "\n",
    "db = FAISS.from_documents(pages, AzureOpenAIEmbeddings())"
   ]
  },
  {
   "cell_type": "code",
   "execution_count": 15,
   "id": "cfabfe5b-e6b9-4688-9933-a9b615519bc1",
   "metadata": {},
   "outputs": [],
   "source": [
    "db.save_local(db_path)"
   ]
  }
 ],
 "metadata": {
  "kernelspec": {
   "display_name": "Python 3 (ipykernel)",
   "language": "python",
   "name": "python3"
  },
  "language_info": {
   "codemirror_mode": {
    "name": "ipython",
    "version": 3
   },
   "file_extension": ".py",
   "mimetype": "text/x-python",
   "name": "python",
   "nbconvert_exporter": "python",
   "pygments_lexer": "ipython3",
   "version": "3.10.13"
  }
 },
 "nbformat": 4,
 "nbformat_minor": 5
}
